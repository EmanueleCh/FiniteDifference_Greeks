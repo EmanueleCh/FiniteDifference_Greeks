{
 "cells": [
  {
   "cell_type": "code",
   "execution_count": null,
   "metadata": {},
   "outputs": [],
   "source": []
  }
 ],
 "metadata": {
  "kernelspec": {
   "display_name": "Python 3.8.12 ('base')",
   "language": "python",
   "name": "python3"
  },
  "language_info": {
   "name": "python",
   "version": "3.8.12"
  },
  "orig_nbformat": 4,
  "vscode": {
   "interpreter": {
    "hash": "75e5aacd39ac5a8dfa789e873054573e3cef597676bbb1f45d57214085c08b5b"
   }
  }
 },
 "nbformat": 4,
 "nbformat_minor": 2
}
